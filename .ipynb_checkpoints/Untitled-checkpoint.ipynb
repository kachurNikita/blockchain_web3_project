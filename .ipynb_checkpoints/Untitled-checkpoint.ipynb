{
 "cells": [
  {
   "cell_type": "code",
   "execution_count": 12,
   "id": "0518de78-3b99-4da1-bf62-6e250f40e125",
   "metadata": {},
   "outputs": [
    {
     "data": {
      "text/plain": [
       "tx_hash    0xa71b489c4fcfa65d8da82a4f8b9dd9de157821b8e62c...\n",
       "from              0x22141F1D620e0fa4cEceb9791B6a090581ACcD4C\n",
       "to                0x3Cfc4262DF1AA19E90Ce5c870d943826601c98ad\n",
       "value                                                      1\n",
       "Name: 0, dtype: object"
      ]
     },
     "execution_count": 12,
     "metadata": {},
     "output_type": "execute_result"
    }
   ],
   "source": [
    "import pandas as pd\n",
    "import sqlite3\n",
    "\n",
    "conn = sqlite3.connect('blockchain.db')\n",
    "data = pd.read_sql('select * from transactions', conn)\n",
    "test = data.squeeze()\n",
    "test\n",
    "\n",
    "\n",
    "# test = pd.read_sql_query(\"select * from transactions\", conn)\n"
   ]
  },
  {
   "cell_type": "code",
   "execution_count": null,
   "id": "aabffa02-8b25-4a4b-a265-bcfb4c3bd42f",
   "metadata": {},
   "outputs": [],
   "source": []
  }
 ],
 "metadata": {
  "kernelspec": {
   "display_name": "Python 3 (ipykernel)",
   "language": "python",
   "name": "python3"
  },
  "language_info": {
   "codemirror_mode": {
    "name": "ipython",
    "version": 3
   },
   "file_extension": ".py",
   "mimetype": "text/x-python",
   "name": "python",
   "nbconvert_exporter": "python",
   "pygments_lexer": "ipython3",
   "version": "3.9.13"
  }
 },
 "nbformat": 4,
 "nbformat_minor": 5
}
