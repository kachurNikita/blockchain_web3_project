{
 "cells": [
  {
   "cell_type": "code",
   "execution_count": 15,
   "id": "0518de78-3b99-4da1-bf62-6e250f40e125",
   "metadata": {},
   "outputs": [
    {
     "data": {
      "text/plain": [
       "tx_hash    0x83809a2a0871751acf4d58e15bf8e3d775d4d7f02b89...\n",
       "from              0x22141F1D620e0fa4cEceb9791B6a090581ACcD4C\n",
       "to                0x3Cfc4262DF1AA19E90Ce5c870d943826601c98ad\n",
       "value                                                      1\n",
       "sender                                                Nikita\n",
       "Name: 0, dtype: object"
      ]
     },
     "execution_count": 15,
     "metadata": {},
     "output_type": "execute_result"
    }
   ],
   "source": [
    "import pandas as pd\n",
    "import sqlite3\n",
    "\n",
    "conn = sqlite3.connect('blockchain.db')\n",
    "data = pd.read_sql('select * from transactions', conn)\n",
    "\n",
    "data.squeeze()\n",
    "\n",
    "\n",
    "# test = pd.read_sql_query(\"select * from transactions\", conn)\n"
   ]
  },
  {
   "cell_type": "code",
   "execution_count": null,
   "id": "aabffa02-8b25-4a4b-a265-bcfb4c3bd42f",
   "metadata": {},
   "outputs": [],
   "source": []
  }
 ],
 "metadata": {
  "kernelspec": {
   "display_name": "Python 3 (ipykernel)",
   "language": "python",
   "name": "python3"
  },
  "language_info": {
   "codemirror_mode": {
    "name": "ipython",
    "version": 3
   },
   "file_extension": ".py",
   "mimetype": "text/x-python",
   "name": "python",
   "nbconvert_exporter": "python",
   "pygments_lexer": "ipython3",
   "version": "3.9.13"
  }
 },
 "nbformat": 4,
 "nbformat_minor": 5
}
