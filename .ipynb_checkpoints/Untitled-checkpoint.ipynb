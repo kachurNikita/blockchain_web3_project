{
 "cells": [
  {
   "cell_type": "code",
   "execution_count": 64,
   "id": "0518de78-3b99-4da1-bf62-6e250f40e125",
   "metadata": {},
   "outputs": [],
   "source": [
    "import pandas as pd\n",
    "import sqlite3\n",
    "\n",
    "conn = sqlite3.connect('blockchain.db')\n",
    "data = pd.read_sql('select * from transactions', conn)\n",
    "\n"
   ]
  },
  {
   "cell_type": "markdown",
   "id": "969a1bb2",
   "metadata": {},
   "source": [
    "# Function to shows totaltransactions value\n"
   ]
  },
  {
   "cell_type": "code",
   "execution_count": 62,
   "id": "e558b84b",
   "metadata": {},
   "outputs": [
    {
     "data": {
      "text/plain": [
       "'total transactions values is: 2 ETH'"
      ]
     },
     "execution_count": 62,
     "metadata": {},
     "output_type": "execute_result"
    }
   ],
   "source": [
    "def show_total_transactions_value(some_data):\n",
    "    return 'total transactions values is:' ' ' + str( some_data['value'].sum()) + ' ' + 'ETH'\n",
    "\n",
    "show_total_transactions_value(data)"
   ]
  },
  {
   "cell_type": "code",
   "execution_count": null,
   "id": "077b714a",
   "metadata": {},
   "outputs": [],
   "source": []
  },
  {
   "cell_type": "code",
   "execution_count": null,
   "id": "6486a211",
   "metadata": {},
   "outputs": [],
   "source": []
  }
 ],
 "metadata": {
  "kernelspec": {
   "display_name": "Python 3 (ipykernel)",
   "language": "python",
   "name": "python3"
  },
  "language_info": {
   "codemirror_mode": {
    "name": "ipython",
    "version": 3
   },
   "file_extension": ".py",
   "mimetype": "text/x-python",
   "name": "python",
   "nbconvert_exporter": "python",
   "pygments_lexer": "ipython3",
   "version": "3.9.13"
  }
 },
 "nbformat": 4,
 "nbformat_minor": 5
}
